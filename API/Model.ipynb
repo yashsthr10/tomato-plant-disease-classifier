{
 "cells": [
  {
   "cell_type": "code",
   "execution_count": 2,
   "id": "aea8d62f-46d8-4eb6-aa37-123d5ced37db",
   "metadata": {},
   "outputs": [],
   "source": [
    "#Importing dependencies\n",
    "import tensorflow as tf\n",
    "from tensorflow.keras.preprocessing.image import ImageDataGenerator\n",
    "from tensorflow import keras\n",
    "from tensorflow.keras.applications import VGG16\n",
    "from tensorflow.keras.models import Model\n",
    "from tensorflow.keras.layers import Dense, GlobalAveragePooling2D\n",
    "from tensorflow.keras.optimizers import Adam\n",
    "import os "
   ]
  },
  {
   "cell_type": "code",
   "execution_count": 3,
   "id": "71f4d78d-a81a-419d-8dab-0c6da9512787",
   "metadata": {},
   "outputs": [
    {
     "name": "stdout",
     "output_type": "stream",
     "text": [
      "Found 18345 images belonging to 10 classes.\n",
      "Found 4585 images belonging to 10 classes.\n"
     ]
    }
   ],
   "source": [
    "#performing data augmentation\n",
    "\n",
    "train_datagen = ImageDataGenerator(\n",
    "    rescale=1./255, \n",
    "    rotation_range=40,\n",
    "    width_shift_range=0.2,\n",
    "    height_shift_range=0.2,  \n",
    "    shear_range=0.2, \n",
    "    zoom_range=0.2,\n",
    "    horizontal_flip=True,\n",
    "    fill_mode='nearest',  \n",
    ")\n",
    "#scaling the validation data\n",
    "val_datagen = ImageDataGenerator(rescale=1./255)\n",
    "\n",
    "#setting the path variables\n",
    "train_dir = 'data/train/'\n",
    "val_dir = 'data/test/'\n",
    "\n",
    "#Setting up the training generator\n",
    "train_generator = train_datagen.flow_from_directory(\n",
    "    train_dir,\n",
    "    target_size=(224, 224),  \n",
    "    batch_size=32,\n",
    "    class_mode='categorical', \n",
    ")\n",
    "\n",
    "#Setting up the validation generator\n",
    "val_generator = val_datagen.flow_from_directory(\n",
    "    val_dir,\n",
    "    target_size=(224, 224),\n",
    "    batch_size=32,\n",
    "    class_mode='categorical',\n",
    ")\n"
   ]
  },
  {
   "cell_type": "code",
   "execution_count": 3,
   "id": "6ae42485-9131-4f64-9869-5681434fcd3a",
   "metadata": {},
   "outputs": [
    {
     "name": "stdout",
     "output_type": "stream",
     "text": [
      "Model: \"model\"\n",
      "_________________________________________________________________\n",
      " Layer (type)                Output Shape              Param #   \n",
      "=================================================================\n",
      " input_1 (InputLayer)        [(None, 224, 224, 3)]     0         \n",
      "                                                                 \n",
      " block1_conv1 (Conv2D)       (None, 224, 224, 64)      1792      \n",
      "                                                                 \n",
      " block1_conv2 (Conv2D)       (None, 224, 224, 64)      36928     \n",
      "                                                                 \n",
      " block1_pool (MaxPooling2D)  (None, 112, 112, 64)      0         \n",
      "                                                                 \n",
      " block2_conv1 (Conv2D)       (None, 112, 112, 128)     73856     \n",
      "                                                                 \n",
      " block2_conv2 (Conv2D)       (None, 112, 112, 128)     147584    \n",
      "                                                                 \n",
      " block2_pool (MaxPooling2D)  (None, 56, 56, 128)       0         \n",
      "                                                                 \n",
      " block3_conv1 (Conv2D)       (None, 56, 56, 256)       295168    \n",
      "                                                                 \n",
      " block3_conv2 (Conv2D)       (None, 56, 56, 256)       590080    \n",
      "                                                                 \n",
      " block3_conv3 (Conv2D)       (None, 56, 56, 256)       590080    \n",
      "                                                                 \n",
      " block3_pool (MaxPooling2D)  (None, 28, 28, 256)       0         \n",
      "                                                                 \n",
      " block4_conv1 (Conv2D)       (None, 28, 28, 512)       1180160   \n",
      "                                                                 \n",
      " block4_conv2 (Conv2D)       (None, 28, 28, 512)       2359808   \n",
      "                                                                 \n",
      " block4_conv3 (Conv2D)       (None, 28, 28, 512)       2359808   \n",
      "                                                                 \n",
      " block4_pool (MaxPooling2D)  (None, 14, 14, 512)       0         \n",
      "                                                                 \n",
      " block5_conv1 (Conv2D)       (None, 14, 14, 512)       2359808   \n",
      "                                                                 \n",
      " block5_conv2 (Conv2D)       (None, 14, 14, 512)       2359808   \n",
      "                                                                 \n",
      " block5_conv3 (Conv2D)       (None, 14, 14, 512)       2359808   \n",
      "                                                                 \n",
      " block5_pool (MaxPooling2D)  (None, 7, 7, 512)         0         \n",
      "                                                                 \n",
      " global_average_pooling2d (G  (None, 512)              0         \n",
      " lobalAveragePooling2D)                                          \n",
      "                                                                 \n",
      " dense (Dense)               (None, 1024)              525312    \n",
      "                                                                 \n",
      " dense_1 (Dense)             (None, 10)                10250     \n",
      "                                                                 \n",
      "=================================================================\n",
      "Total params: 15,250,250\n",
      "Trainable params: 535,562\n",
      "Non-trainable params: 14,714,688\n",
      "_________________________________________________________________\n"
     ]
    }
   ],
   "source": [
    "#Loading a pretained model (VGG16)\n",
    "base_model = VGG16(weights='imagenet', include_top=False, input_shape=(224, 224, 3))\n",
    "\n",
    "num_classes = 10\n",
    "\n",
    "#for not training the base layer\n",
    "for layer in base_model.layers:\n",
    "    layer.trainable = False\n",
    "\n",
    "#setting up out model\n",
    "x = base_model.output\n",
    "x = GlobalAveragePooling2D()(x)  \n",
    "x = Dense(1024, activation='relu')(x) \n",
    "predictions = Dense(num_classes, activation='softmax')(x)  \n",
    "\n",
    "model = Model(inputs=base_model.input, outputs=predictions)\n",
    "\n",
    "model.compile(optimizer=Adam(), loss='categorical_crossentropy', metrics=['accuracy'])\n",
    "\n",
    "model.summary()\n"
   ]
  },
  {
   "cell_type": "code",
   "execution_count": 4,
   "id": "605f8311-b0eb-4e22-8414-4d498d2f168a",
   "metadata": {},
   "outputs": [
    {
     "name": "stdout",
     "output_type": "stream",
     "text": [
      "Epoch 1/10\n",
      "573/573 [==============================] - 512s 852ms/step - loss: 1.1742 - accuracy: 0.6133 - val_loss: 0.8108 - val_accuracy: 0.7194\n",
      "Epoch 2/10\n",
      "573/573 [==============================] - 214s 372ms/step - loss: 0.7511 - accuracy: 0.7459 - val_loss: 0.7035 - val_accuracy: 0.7537\n",
      "Epoch 3/10\n",
      "573/573 [==============================] - 209s 364ms/step - loss: 0.6550 - accuracy: 0.7783 - val_loss: 0.7173 - val_accuracy: 0.7603\n",
      "Epoch 4/10\n",
      "573/573 [==============================] - 209s 365ms/step - loss: 0.5938 - accuracy: 0.7941 - val_loss: 0.6479 - val_accuracy: 0.7736\n",
      "Epoch 5/10\n",
      "573/573 [==============================] - 218s 379ms/step - loss: 0.5661 - accuracy: 0.8043 - val_loss: 0.5200 - val_accuracy: 0.8142\n",
      "Epoch 6/10\n",
      "573/573 [==============================] - 214s 373ms/step - loss: 0.5264 - accuracy: 0.8185 - val_loss: 0.5770 - val_accuracy: 0.7959\n",
      "Epoch 7/10\n",
      "573/573 [==============================] - 221s 384ms/step - loss: 0.5208 - accuracy: 0.8219 - val_loss: 0.5322 - val_accuracy: 0.8022\n",
      "Epoch 8/10\n",
      "573/573 [==============================] - 225s 391ms/step - loss: 0.4979 - accuracy: 0.8302 - val_loss: 0.4357 - val_accuracy: 0.8453\n",
      "Epoch 9/10\n",
      "573/573 [==============================] - 219s 382ms/step - loss: 0.4783 - accuracy: 0.8338 - val_loss: 0.4489 - val_accuracy: 0.8453\n",
      "Epoch 10/10\n",
      "573/573 [==============================] - 219s 381ms/step - loss: 0.4692 - accuracy: 0.8337 - val_loss: 0.5496 - val_accuracy: 0.8016\n"
     ]
    }
   ],
   "source": [
    "#training the model\n",
    "\n",
    "epochs = 10\n",
    "steps_per_epoch = train_generator.samples // train_generator.batch_size\n",
    "validation_steps = val_generator.samples // val_generator.batch_size\n",
    "\n",
    "history = model.fit(\n",
    "    train_generator,\n",
    "    epochs=epochs,\n",
    "    steps_per_epoch=steps_per_epoch,\n",
    "    validation_data=val_generator,\n",
    "    validation_steps=validation_steps,\n",
    ")\n"
   ]
  },
  {
   "cell_type": "code",
   "execution_count": 5,
   "id": "c6eaeafb-13cd-412d-8788-f9fd2ef24699",
   "metadata": {},
   "outputs": [],
   "source": [
    "model.save('crop_disease_model.h5')\n"
   ]
  },
  {
   "cell_type": "code",
   "execution_count": 6,
   "id": "dd49e18e-5985-4688-8de3-e1a64b338826",
   "metadata": {},
   "outputs": [
    {
     "name": "stderr",
     "output_type": "stream",
     "text": [
      "C:\\Users\\yksut\\AppData\\Roaming\\Python\\Python38\\site-packages\\keras\\optimizers\\optimizer_v2\\adam.py:114: UserWarning: The `lr` argument is deprecated, use `learning_rate` instead.\n",
      "  super().__init__(name, **kwargs)\n"
     ]
    },
    {
     "name": "stdout",
     "output_type": "stream",
     "text": [
      "Epoch 1/5\n",
      "573/573 [==============================] - 223s 367ms/step - loss: 0.5093 - accuracy: 0.8324 - val_loss: 0.4381 - val_accuracy: 0.8440\n",
      "Epoch 2/5\n",
      "573/573 [==============================] - 207s 361ms/step - loss: 0.2532 - accuracy: 0.9115 - val_loss: 0.2095 - val_accuracy: 0.9309\n",
      "Epoch 3/5\n",
      "573/573 [==============================] - 204s 356ms/step - loss: 0.1953 - accuracy: 0.9317 - val_loss: 0.2103 - val_accuracy: 0.9255\n",
      "Epoch 4/5\n",
      "573/573 [==============================] - 215s 374ms/step - loss: 0.1543 - accuracy: 0.9450 - val_loss: 0.2283 - val_accuracy: 0.9242\n",
      "Epoch 5/5\n",
      "573/573 [==============================] - 212s 369ms/step - loss: 0.1393 - accuracy: 0.9511 - val_loss: 0.2589 - val_accuracy: 0.9117\n"
     ]
    }
   ],
   "source": [
    "#further fine-tuning\n",
    "for layer in base_model.layers[-5:]:\n",
    "    layer.trainable = True\n",
    "\n",
    "model.compile(optimizer=Adam(lr=0.0001), loss='categorical_crossentropy', metrics=['accuracy'])\n",
    "\n",
    "# Continue training the model\n",
    "history_fine = model.fit(\n",
    "    train_generator,\n",
    "    epochs=5,  # Fine-tuning for a few more epochs\n",
    "    steps_per_epoch=steps_per_epoch,\n",
    "    validation_data=val_generator,\n",
    "    validation_steps=validation_steps,\n",
    ")\n"
   ]
  },
  {
   "cell_type": "code",
   "execution_count": 7,
   "id": "3dc4e7e7-efc4-40f3-8409-0321e0b1f9c6",
   "metadata": {},
   "outputs": [],
   "source": [
    "model.save('crop_disease_fine_tuned_model.h5')"
   ]
  },
  {
   "cell_type": "code",
   "execution_count": 8,
   "id": "5fdc0f97-34ed-4e29-9cc6-3e1cb4ce646c",
   "metadata": {},
   "outputs": [],
   "source": [
    "from tensorflow.keras.models import load_model\n",
    "from tensorflow.keras.preprocessing import image\n",
    "import numpy as np\n",
    "\n",
    "model = load_model('crop_disease_fine_tuned_model.h5')\n",
    "\n",
    "def predict_disease(img_path):\n",
    "    img = image.load_img(img_path, target_size=(224, 224))\n",
    "    img_array = image.img_to_array(img) / 255.0\n",
    "    img_array = np.expand_dims(img_array, axis=0)\n",
    "    prediction = model.predict(img_array)\n",
    "    predicted_class = np.argmax(prediction)\n",
    "    return predicted_class\n"
   ]
  },
  {
   "cell_type": "code",
   "execution_count": 20,
   "id": "5b3d45e4-dc7f-4187-9b2b-32d6e58f7a7c",
   "metadata": {},
   "outputs": [
    {
     "name": "stdout",
     "output_type": "stream",
     "text": [
      "1/1 [==============================] - 0s 44ms/step\n",
      "Tomato___Early_blight\n"
     ]
    }
   ],
   "source": [
    "index_to_class = {v: k for k, v in train_generator.class_indices.items()}\n",
    "\n",
    "predicted_class_index = predict_disease('image.jpg')\n",
    "\n",
    "prediction = index_to_class[predicted_class_index]\n",
    "\n",
    "print(prediction)\n"
   ]
  },
  {
   "cell_type": "code",
   "execution_count": 4,
   "id": "34bb1474-e649-4c28-a864-aaebd6634a75",
   "metadata": {},
   "outputs": [
    {
     "data": {
      "text/plain": [
       "dict_items([('Tomato___Bacterial_spot', 0), ('Tomato___Early_blight', 1), ('Tomato___Late_blight', 2), ('Tomato___Leaf_Mold', 3), ('Tomato___Septoria_leaf_spot', 4), ('Tomato___Spider_mites Two-spotted_spider_mite', 5), ('Tomato___Target_Spot', 6), ('Tomato___Tomato_Yellow_Leaf_Curl_Virus', 7), ('Tomato___Tomato_mosaic_virus', 8), ('Tomato___healthy', 9)])"
      ]
     },
     "execution_count": 4,
     "metadata": {},
     "output_type": "execute_result"
    }
   ],
   "source": [
    "train_generator.class_indices.items()"
   ]
  },
  {
   "cell_type": "code",
   "execution_count": null,
   "id": "83b4400f-dbae-43c7-9d9e-35b37222e31f",
   "metadata": {},
   "outputs": [],
   "source": []
  }
 ],
 "metadata": {
  "kernelspec": {
   "display_name": "Python 3 (ipykernel)",
   "language": "python",
   "name": "python3"
  },
  "language_info": {
   "codemirror_mode": {
    "name": "ipython",
    "version": 3
   },
   "file_extension": ".py",
   "mimetype": "text/x-python",
   "name": "python",
   "nbconvert_exporter": "python",
   "pygments_lexer": "ipython3",
   "version": "3.8.0"
  }
 },
 "nbformat": 4,
 "nbformat_minor": 5
}
